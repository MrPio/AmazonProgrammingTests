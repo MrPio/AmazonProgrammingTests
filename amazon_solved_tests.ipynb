{
 "cells": [
  {
   "metadata": {},
   "cell_type": "markdown",
   "source": [
    "You are given an array of n elements.\n",
    "\n",
    "You need to return a 2d array where each element is a pair of numbers, the first is an element of the original array, the second is the number of occurrencies in that array. \n",
    "\n",
    "The output should be ordered by descending time of occurrencies and ascending value. for example:\n",
    "\n",
    "5\n",
    "2\n",
    "2\n",
    "1\n",
    "3\n",
    "4\n",
    "\n",
    "(input: first number: n, next n numbers: array)\n",
    "\n",
    "[2,2,1,3,4] --> [[2,2],[1,1],[3,1][4,1]]"
   ],
   "id": "590bc7c715f29290"
  },
  {
   "metadata": {
    "collapsed": true
   },
   "cell_type": "code",
   "source": [
    "def sort_by_occurrences(_: int, numbers: list[int]) -> list[int]:\n",
    "    items = set(numbers)\n",
    "    unsorted_occurrencies = map(lambda item: [item, numbers.count(item)], items)\n",
    "    return sorted(unsorted_occurrencies, key=lambda item: (-item[1], item[0]))\n",
    "\n",
    "\n",
    "assert (sort_by_occurrences(_, [2, 2, 1, 3, 4]) == [[2, 2], [1, 1], [3, 1], [4, 1]])"
   ],
   "id": "initial_id",
   "outputs": [],
   "execution_count": null
  },
  {
   "metadata": {},
   "cell_type": "markdown",
   "source": [
    "---\n",
    "\n",
    "Write a regular expression that matches all the strings that start and end either with a or b\n",
    "\n",
    "- aba --> match\n",
    "- a --> match\n",
    "- b - --> match\n",
    "- aabababbba --> match\n",
    "- baba --> not match"
   ],
   "id": "eac427b0a5036f3e"
  },
  {
   "metadata": {
    "ExecuteTime": {
     "end_time": "2024-10-06T19:41:40.322206Z",
     "start_time": "2024-10-06T19:41:40.302873Z"
    }
   },
   "cell_type": "code",
   "source": [
    "import re\n",
    "\n",
    "regex = '^a.*a$|^b.*b$|^[ab]$'\n",
    "for string in {'aba': True, 'a': True, 'b': True, 'aa': True, 'bb': True, 'aabababbba': True, 'baba': False,\n",
    "               'ba': False, 'ab': False}.items():\n",
    "    assert ((re.match(regex, string[0]) is not None) == string[1])"
   ],
   "id": "5e60e80ad38e3f91",
   "outputs": [],
   "execution_count": 89
  },
  {
   "metadata": {},
   "cell_type": "markdown",
   "source": [
    "---\n",
    "You have multiple items that grant a reward when taken. every time you take an item, the reward of that item goes to 0 while the rewards for all the other items decreases by 1 (reward \n",
    "can't be less than 0).\n",
    "\n",
    "you are given as input an array corresponding to rewards for different items. find the maximum reward that can be obtained from the items."
   ],
   "id": "25b0013aec04913c"
  },
  {
   "metadata": {
    "ExecuteTime": {
     "end_time": "2024-10-06T19:41:28.634065Z",
     "start_time": "2024-10-06T19:41:28.620395Z"
    }
   },
   "cell_type": "code",
   "source": [
    "def max_reward(items: list[int]) -> int:\n",
    "    sorted_rewards = sorted(items, reverse=True)\n",
    "    scaled = map(lambda x: max(0, x[1] - x[0]), enumerate(sorted_rewards))\n",
    "    return sum(scaled)\n",
    "\n",
    "\n",
    "rewards = [5, 12, 2, 1, 4, 3, 2, 1, 6]\n",
    "assert (max_reward(rewards) == 21)"
   ],
   "id": "2802be0a46322612",
   "outputs": [],
   "execution_count": 88
  },
  {
   "metadata": {},
   "cell_type": "markdown",
   "source": [
    "---\n",
    "In the amazon warehouse, there are piles of boxes. for any pile, you can take the last box to put in another pile (only if the first box has at least one box). \n",
    "\n",
    "The goal is to have piles of boxes so that the difference between the pile with the lowest number of boxes and the pile with the greatest number of boxes is minimum.\n",
    "\n",
    "Given as input an array, corresponding to the piles of boxes, calculate how many moves are needed to get to the minimum distance."
   ],
   "id": "917ef530598c7f78"
  },
  {
   "metadata": {
    "ExecuteTime": {
     "end_time": "2024-10-06T19:54:26.152767Z",
     "start_time": "2024-10-06T19:54:26.145723Z"
    }
   },
   "cell_type": "code",
   "source": [
    "from functools import reduce\n",
    "\n",
    "\n",
    "def moves_to_order_box(boxes: list[int]) -> int:\n",
    "    min_dist = 0 if sum(boxes) % len(boxes) == 0 else 1\n",
    "    max_height = sum(boxes) // len(boxes) + min_dist\n",
    "    sorted_boxes = sorted(boxes, reverse=True)\n",
    "    return reduce(lambda acc, pile: acc if pile <= max_height else acc + pile - max_height, sorted_boxes, 0)\n",
    "\n",
    "\n",
    "assert (moves_to_order_box([12, 1, 3, 6]) == 6)    "
   ],
   "id": "ff243e4ce616883a",
   "outputs": [],
   "execution_count": 98
  }
 ],
 "metadata": {
  "kernelspec": {
   "display_name": "Python 3",
   "language": "python",
   "name": "python3"
  },
  "language_info": {
   "codemirror_mode": {
    "name": "ipython",
    "version": 2
   },
   "file_extension": ".py",
   "mimetype": "text/x-python",
   "name": "python",
   "nbconvert_exporter": "python",
   "pygments_lexer": "ipython2",
   "version": "2.7.6"
  }
 },
 "nbformat": 4,
 "nbformat_minor": 5
}
